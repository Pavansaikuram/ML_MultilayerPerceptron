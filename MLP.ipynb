{
  "nbformat": 4,
  "nbformat_minor": 0,
  "metadata": {
    "colab": {
      "name": "MLP2_RIDGE2.ipynb",
      "provenance": [],
      "collapsed_sections": []
    },
    "kernelspec": {
      "name": "python3",
      "display_name": "Python 3"
    }
  },
  "cells": [
    {
      "cell_type": "code",
      "metadata": {
        "id": "efBP7y_nszMx"
      },
      "source": [
        "from keras import datasets, utils, layers, models, optimizers\n",
        "import numpy as np\n",
        "import scipy\n",
        "import matplotlib.pyplot as plt"
      ],
      "execution_count": null,
      "outputs": []
    },
    {
      "cell_type": "code",
      "metadata": {
        "id": "GU19B3Wz03_-"
      },
      "source": [
        "(xtrain, ytrain), (xtest, ytest) = datasets.mnist.load_data()\n",
        "xtrain = xtrain.reshape(60000, 784) / 255\n",
        "Xtrain = xtrain[0:10000]\n",
        "xtest = xtest.reshape(10000, 784) / 255\n",
        "Xtest = xtest[0:10]\n",
        "\n",
        "\n",
        "def convertiontobinary(size, data):\n",
        "  asciivalues = []\n",
        "  for i in range(size):\n",
        "    ascii = np.binary_repr(int(data[i]+48), width=6)\n",
        "    asciivalues.append(list(ascii))\n",
        "  asciivalues = [list(map(int, i)) for i in asciivalues]\n",
        "  asciivalues = np.array(asciivalues)\n",
        "  return asciivalues\n",
        "\n",
        "\n",
        "ytrain = ytrain.reshape(60000, 1)\n",
        "Ytrain = convertiontobinary(ytrain.shape[0], ytrain)\n",
        "Ytrain = Ytrain[0:10000]\n",
        "Ytest = convertiontobinary(ytest.shape[0], ytest)\n",
        "Ytest = Ytest[0:10]"
      ],
      "execution_count": null,
      "outputs": []
    },
    {
      "cell_type": "code",
      "metadata": {
        "id": "VrtjBacvyRYl"
      },
      "source": [
        "def feedforward(X, wh1, wh2, wo):\n",
        "  h1=1/(1+ np.exp((-(X.dot(wh1.T)))))\n",
        "  h2=1/(1+ np.exp((-(h1.dot(wh2.T)))))\n",
        "  y = 1 / (1 + np.exp(-(h2.dot(wo.T))))\n",
        "  return h1, h2, y"
      ],
      "execution_count": null,
      "outputs": []
    },
    {
      "cell_type": "code",
      "metadata": {
        "id": "e60z2alZ9KRk"
      },
      "source": [
        "def NNtest(X, Y, wh1, wh2, wo):\n",
        "  h1, h2, y = feedforward(X, wh1, wh2, wo)\n",
        "  testerror = np.sum((y - Y)**2)/Y.shape[0]\n",
        "  return testerror"
      ],
      "execution_count": null,
      "outputs": []
    },
    {
      "cell_type": "code",
      "metadata": {
        "id": "winu4hV7s14A"
      },
      "source": [
        "def NNtrain(X, Y, Epoch):\n",
        "  Ni = 784; Nh1 = 512 ; Nh2 = 256;\n",
        "  No = 6;\n",
        "  wh1 = np.random.rand(Nh1, Ni)\n",
        "  wh2 = np.random.rand(Nh2, Nh1)\n",
        "  wo = np.random.randn(No, Nh2)\n",
        "  print(wo[1:10,:])\n",
        "  dwh1 = np.zeros(wh1.shape)\n",
        "  dwh2 = np.zeros(wh2.shape)\n",
        "  dwo = np.zeros(wo.shape)\n",
        "  # print(dwo.shape)\n",
        "  trainerror = np.array([])\n",
        "  testerror = np.array([])\n",
        "\n",
        "  for trial in range(Epoch):\n",
        "      print(\"epoch\",trial)\n",
        "      # h1=1/(1+ np.exp((-(X.dot(wh1.T)))))\n",
        "      # h2=1/(1+ np.exp((-(h1.dot(wh2.T)))))\n",
        "      # y = 1 / (1 + np.exp(-(h2.dot(wo.T))))\n",
        "      h1, h2, y = feedforward(X, wh1, wh2, wo)\n",
        "      # output for all pattern\n",
        "      do = y * (1 - y) * (Y - y) # delta output\n",
        "      dh2 = h2 * (1 - h2) * ((do).dot(wo))\n",
        "      dh1 = h1 * (1 - h1) * ((dh2).dot(wh2))\n",
        "      # update weights with momentum\n",
        "      # print(do.shape)\n",
        "      dwo = 0.9 * dwo + (do.T).dot(h2)\n",
        "      dwh2 = 0.9*dwh2+(dh2.T).dot(h1)\n",
        "      dwh1 = 0.9*dwh1+(dh1.T).dot(X)\n",
        "    \n",
        "      lr = 0.01\n",
        "      # without any reqularization techniques\n",
        "      # wo = wo + lr* dwo\n",
        "      # wh1 = wh1+lr*dwh1\n",
        "      # wh2 = wh2+lr*dwh2\n",
        "\n",
        "      # #Ridge Regression\n",
        "      lam = 0.01\n",
        "      wo = (1-2*lam*lr)*wo + lr*dwo\n",
        "      wh2 = (1-2*lam*lr)*wh2 + lr*dwh2\n",
        "      wh1 = (1-2*lam*lr)*wh1 + lr*dwh1\n",
        "\n",
        "      #LASSO REGRESSION\n",
        "      # lam = 0.02\n",
        "      # wo = wo-(2*lam*lr*np.sign(wo)) + lr*dwo\n",
        "      # wh2 = wh2-(2*lam*lr*np.sign(wh2)) + lr*dwh2      \n",
        "      # wh1 = wh1-(2*lam*lr*np.sign(wh1)) + lr*dwh1\n",
        "\n",
        "\n",
        "      print(\"train error for epoch\", trial,\"is\", (np.sum((y - Y)**2))/y.shape[0])\n",
        "      trainerror = np.append(trainerror, (np.sum((y - Y)**2))/y.shape[0])\n",
        "      error =  NNtest(Xtest, Ytest, wh1, wh2, wo)\n",
        "      print(\"test error for epoch\", trial,\"is\", error)\n",
        "      testerror = np.append(testerror, error) \n",
        "  return trainerror, testerror"
      ],
      "execution_count": null,
      "outputs": []
    },
    {
      "cell_type": "code",
      "metadata": {
        "id": "P2ZpGqzW3QS4",
        "outputId": "c48ac56e-3f5f-468a-a4f3-89071ae8fae3",
        "colab": {
          "base_uri": "https://localhost:8080/",
          "height": 990
        }
      },
      "source": [
        "trainerror, testerror  = NNtrain(Xtrain, Ytrain, 10)\n",
        "# print(updatewo[1:10,:])\n",
        "plt.plot(trainerror, label = 'train')\n",
        "plt.plot(testerror, label = 'test')\n",
        "plt.ylabel('errorrate')\n",
        "plt.xlabel('epoch')\n",
        "plt . legend (['train' , 'test'] , loc= 'lower right')\n",
        "plt.show"
      ],
      "execution_count": null,
      "outputs": [
        {
          "output_type": "stream",
          "text": [
            "[[ 1.52307451  0.58151836 -1.138819   ...  1.146806    1.07417442\n",
            "  -0.68424434]\n",
            " [-0.45086381  0.52416883 -1.39001999 ... -0.16847227  1.69168956\n",
            "   1.14192623]\n",
            " [-0.07424275 -0.21815835  1.31322107 ... -0.9166704   0.62829203\n",
            "  -0.84351253]\n",
            " [-0.51976948 -1.37564515 -0.73323283 ... -1.67062828 -1.20280596\n",
            "   0.00774666]\n",
            " [-1.95543298  0.582978    0.55051561 ... -2.29988403  0.07997965\n",
            "   1.35767455]]\n",
            "epoch 0\n",
            "train error for epoch 0 is 3.4882488018274502\n",
            "test error for epoch 0 is 3.1832019819513073\n",
            "epoch 1\n",
            "train error for epoch 1 is 3.4718019380681193\n",
            "test error for epoch 1 is 2.199770382481526\n",
            "epoch 2\n",
            "train error for epoch 2 is 2.4883703383637807\n",
            "test error for epoch 2 is 2.1865441270881774\n",
            "epoch 3\n",
            "train error for epoch 3 is 2.4751440826950724\n",
            "test error for epoch 3 is 1.199999793644109\n",
            "epoch 4\n",
            "train error for epoch 4 is 1.4885997489376859\n",
            "test error for epoch 4 is 1.1999997919951912\n",
            "epoch 5\n",
            "train error for epoch 5 is 1.4885997469399002\n",
            "test error for epoch 5 is 1.1999997901845911\n",
            "epoch 6\n",
            "train error for epoch 6 is 1.488599744746913\n",
            "test error for epoch 6 is 1.1999997882205504\n",
            "epoch 7\n",
            "train error for epoch 7 is 1.4885997423686719\n",
            "test error for epoch 7 is 1.1999997861099214\n",
            "epoch 8\n",
            "train error for epoch 8 is 1.4885997398134438\n",
            "test error for epoch 8 is 1.1999997838583236\n",
            "epoch 9\n",
            "train error for epoch 9 is 1.4885997370880073\n",
            "test error for epoch 9 is 1.1999997814702759\n"
          ],
          "name": "stdout"
        },
        {
          "output_type": "execute_result",
          "data": {
            "text/plain": [
              "<function matplotlib.pyplot.show>"
            ]
          },
          "metadata": {
            "tags": []
          },
          "execution_count": 79
        },
        {
          "output_type": "display_data",
          "data": {
            "image/png": "[encoded data removed]",
            "text/plain": [
              "<Figure size 432x288 with 1 Axes>"
            ]
          },
          "metadata": {
            "tags": [],
            "needs_background": "light"
          }
        }
      ]
    }
  ]
}